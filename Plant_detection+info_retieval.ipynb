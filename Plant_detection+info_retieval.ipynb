{
 "cells": [
  {
   "cell_type": "markdown",
   "metadata": {},
   "source": [
    "## **Plant Classifier and Information Retrieval System**"
   ]
  },
  {
   "cell_type": "code",
   "execution_count": 1,
   "metadata": {
    "colab": {
     "base_uri": "https://localhost:8080/"
    },
    "id": "spo6NF6BPf5i",
    "outputId": "6c6361f9-2b1e-43a8-fd82-56c00fb30638"
   },
   "outputs": [
    {
     "name": "stdout",
     "output_type": "stream",
     "text": [
      "Mounted at /content/drive\n"
     ]
    }
   ],
   "source": [
    "from google.colab import drive\n",
    "drive.mount('/content/drive')"
   ]
  },
  {
   "cell_type": "markdown",
   "metadata": {},
   "source": [
    "## Plant Classification and detection"
   ]
  },
  {
   "cell_type": "code",
   "execution_count": 2,
   "metadata": {
    "id": "X7uUa0FKMbLx"
   },
   "outputs": [],
   "source": [
    "import torch\n",
    "import torch.nn as nn\n",
    "import torchvision.transforms as transforms\n",
    "from torchvision import datasets, models\n",
    "from torch.utils.data import DataLoader\n",
    "from sklearn.cluster import KMeans\n",
    "from sklearn.metrics.pairwise import cosine_similarity\n",
    "import numpy as np\n",
    "from sklearn.metrics import precision_score, recall_score, f1_score"
   ]
  },
  {
   "cell_type": "markdown",
   "metadata": {},
   "source": [
    "#### Dataset is split into train, test and validate datasets"
   ]
  },
  {
   "cell_type": "code",
   "execution_count": 3,
   "metadata": {
    "id": "m4c_KDgiQF0o"
   },
   "outputs": [],
   "source": [
    "import os\n",
    "import shutil\n",
    "from sklearn.model_selection import train_test_split"
   ]
  },
  {
   "cell_type": "code",
   "execution_count": null,
   "metadata": {
    "id": "teFjvrAH590_"
   },
   "outputs": [],
   "source": [
    "original_dataset_path = \"/content/drive/MyDrive/Augmented_Set\"\n",
    "output_base_path = \"/content/drive/MyDrive/updated dataset\"\n",
    "\n",
    "train_dataset_path = os.path.join(output_base_path, \"train\")\n",
    "valid_dataset_path = os.path.join(output_base_path, \"validate\")\n",
    "test_dataset_path = os.path.join(output_base_path, \"test\")\n",
    "\n",
    "os.makedirs(train_dataset_path, exist_ok=True)\n",
    "os.makedirs(valid_dataset_path, exist_ok=True)\n",
    "os.makedirs(test_dataset_path, exist_ok=True)\n",
    "\n",
    "for plant in os.listdir(original_dataset_path):\n",
    "    plant_folder = os.path.join(original_dataset_path, plant)\n",
    "\n",
    "    if os.path.isdir(plant_folder):\n",
    "        images = os.listdir(plant_folder)\n",
    "\n",
    "        train_images, remainder_images = train_test_split(images, test_size=0.3, random_state=42)\n",
    "\n",
    "        valid_images, test_images = train_test_split(remainder_images, test_size=0.33, random_state=42)  # 0.33 of 30% = 10%\n",
    "\n",
    "        train_plant_path = os.path.join(train_dataset_path, plant)\n",
    "        valid_plant_path = os.path.join(valid_dataset_path, plant)\n",
    "        test_plant_path = os.path.join(test_dataset_path, plant)\n",
    "\n",
    "        os.makedirs(train_plant_path, exist_ok=True)\n",
    "        os.makedirs(valid_plant_path, exist_ok=True)\n",
    "        os.makedirs(test_plant_path, exist_ok=True)\n",
    "\n",
    "        for image in train_images:\n",
    "            shutil.copy(os.path.join(plant_folder, image), os.path.join(train_plant_path, image))\n",
    "        for image in valid_images:\n",
    "            shutil.copy(os.path.join(plant_folder, image), os.path.join(valid_plant_path, image))\n",
    "        for image in test_images:\n",
    "            shutil.copy(os.path.join(plant_folder, image), os.path.join(test_plant_path, image))\n",
    "\n",
    "print(\"Dataset has been successfully split into train, validate, and test sets!\")\n"
   ]
  },
  {
   "cell_type": "code",
   "execution_count": 5,
   "metadata": {
    "id": "nk0QBIJxMglB"
   },
   "outputs": [],
   "source": [
    "def prepare_data(train_path,validate_path,  test_path):\n",
    "    transform = transforms.Compose([\n",
    "        transforms.Resize((224, 224)),\n",
    "        transforms.ToTensor(),\n",
    "        transforms.Normalize(mean=[0.485, 0.456, 0.406], std=[0.229, 0.224, 0.225])\n",
    "    ])\n",
    "\n",
    "    train_dataset = datasets.ImageFolder(train_path, transform=transform)\n",
    "    validate_dataset = datasets.ImageFolder(validate_path, transform=transform)\n",
    "    test_dataset = datasets.ImageFolder(test_path, transform=transform)\n",
    "\n",
    "    train_loader = DataLoader(train_dataset, batch_size=32, shuffle=True)\n",
    "    validate_loader = DataLoader(validate_dataset, batch_size=32, shuffle=False)\n",
    "    test_loader = DataLoader(test_dataset, batch_size=32, shuffle=False)\n",
    "\n",
    "    return train_loader,validate_loader, test_loader, train_dataset,validate_dataset, test_dataset\n",
    "\n",
    "train_path = '/content/drive/MyDrive/updated dataset/train'\n",
    "validate_path = '/content/drive/MyDrive/updated dataset/validate'\n",
    "test_path = '/content/drive/MyDrive/updated dataset/test'\n",
    "\n",
    "train_loader,validate_loader, test_loader, train_dataset,validate_dataset, test_dataset = prepare_data(train_path, validate_path, test_path)\n"
   ]
  },
  {
   "cell_type": "code",
   "execution_count": null,
   "metadata": {
    "colab": {
     "base_uri": "https://localhost:8080/"
    },
    "id": "opmt5bJUWcOX",
    "outputId": "942ec9d1-9c6c-4ac9-beb3-6caf1b553bfd"
   },
   "outputs": [
    {
     "name": "stderr",
     "output_type": "stream",
     "text": [
      "/usr/local/lib/python3.10/dist-packages/torchvision/models/_utils.py:208: UserWarning: The parameter 'pretrained' is deprecated since 0.13 and may be removed in the future, please use 'weights' instead.\n",
      "  warnings.warn(\n",
      "/usr/local/lib/python3.10/dist-packages/torchvision/models/_utils.py:223: UserWarning: Arguments other than a weight enum or `None` for 'weights' are deprecated since 0.13 and may be removed in the future. The current behavior is equivalent to passing `weights=ResNet50_Weights.IMAGENET1K_V1`. You can also use `weights=ResNet50_Weights.DEFAULT` to get the most up-to-date weights.\n",
      "  warnings.warn(msg)\n",
      "Downloading: \"https://download.pytorch.org/models/resnet50-0676ba61.pth\" to /root/.cache/torch/hub/checkpoints/resnet50-0676ba61.pth\n",
      "100%|██████████| 97.8M/97.8M [00:00<00:00, 184MB/s]\n"
     ]
    }
   ],
   "source": [
    "'''\n",
    "ResNet50 model is used here for training the plant classification model. \n",
    "The penultimate layer is used for generating feature vectors of 19 classes for predicting 19 types of plants. \n",
    "'''\n",
    "\n",
    "def initialize_model(num_classes=19):\n",
    "    resnet = models.resnet50(pretrained=True)\n",
    "    resnet.fc = nn.Identity()\n",
    "    penultimate_layer = nn.Linear(2048, num_classes)\n",
    "\n",
    "    model = nn.Sequential(\n",
    "        resnet,\n",
    "        penultimate_layer\n",
    "    )\n",
    "\n",
    "    return model.to('cuda' if torch.cuda.is_available() else 'cpu')\n",
    "\n",
    "num_classes = 19\n",
    "model = initialize_model(num_classes)"
   ]
  },
  {
   "cell_type": "markdown",
   "metadata": {},
   "source": [
    "### Model training"
   ]
  },
  {
   "cell_type": "code",
   "execution_count": 7,
   "metadata": {
    "id": "KeMS_qOSLiNT"
   },
   "outputs": [],
   "source": [
    "def validate_model(model, validate_loader, device='cpu', num_classes=19):\n",
    "    model.eval()\n",
    "    correct = 0\n",
    "    total = 0\n",
    "    total_loss = 0\n",
    "\n",
    "    criterion = torch.nn.BCEWithLogitsLoss()\n",
    "\n",
    "    y_true = []\n",
    "    y_pred = []\n",
    "\n",
    "    with torch.no_grad():\n",
    "        for inputs, labels in validate_loader:\n",
    "            inputs, labels = inputs.to(device), labels.float().to(device)\n",
    "\n",
    "            outputs = model(inputs)\n",
    "            labels = torch.nn.functional.one_hot(labels.long(), num_classes=num_classes).float().to(device)\n",
    "            loss = criterion(outputs, labels)\n",
    "\n",
    "            preds = (torch.sigmoid(outputs) > 0.5).float()\n",
    "            correct += (preds == labels).all(axis=1).sum().item()\n",
    "            total += labels.size(0)\n",
    "            total_loss += loss.item()\n",
    "\n",
    "            y_true.extend(labels.cpu().numpy())\n",
    "            y_pred.extend(preds.cpu().numpy())\n",
    "\n",
    "    accuracy = correct / total\n",
    "    y_true = np.array(y_true).flatten()\n",
    "    y_pred = np.array(y_pred).flatten()\n",
    "    precision = precision_score(y_true, y_pred, average='weighted')\n",
    "    recall = recall_score(y_true, y_pred, average='weighted')\n",
    "    f1 = f1_score(y_true, y_pred, average='weighted')\n",
    "\n",
    "    print(f'Validation Loss: {total_loss:.4f}, Accuracy: {accuracy:.4f}, Precision: {precision:.4f}, Recall: {recall:.4f}, F1-Score: {f1:.4f}')\n",
    "\n",
    "    return total_loss, accuracy, precision, recall, f1\n"
   ]
  },
  {
   "cell_type": "code",
   "execution_count": null,
   "metadata": {
    "id": "j0IVPyQuWhvW"
   },
   "outputs": [],
   "source": [
    "import torch\n",
    "from tqdm import tqdm\n",
    "\n",
    "def train_model_with_validation(model, train_loader, validate_loader, num_classes=19, num_epochs=10, learning_rate=0.001, save_path='/content/drive/MyDrive/model_weights.pth'):\n",
    "    device = 'cuda' if torch.cuda.is_available() else 'cpu'\n",
    "    model = model.to(device)\n",
    "    criterion = torch.nn.BCEWithLogitsLoss()\n",
    "    optimizer = torch.optim.Adam(model.parameters(), lr=learning_rate)\n",
    "\n",
    "    best_val_accuracy = 0.0  \n",
    "    best_model_weights = None\n",
    "\n",
    "    for epoch in range(num_epochs):\n",
    "        model.train()\n",
    "        total_loss = 0\n",
    "        correct = 0\n",
    "        total = 0\n",
    "\n",
    "        for inputs, labels in tqdm(train_loader):\n",
    "            inputs, labels = inputs.to(device), labels.float().to(device)\n",
    "\n",
    "            outputs = model(inputs)\n",
    "            labels = torch.nn.functional.one_hot(labels.long(), num_classes=num_classes).float().to(device)\n",
    "            loss = criterion(outputs, labels)\n",
    "\n",
    "            optimizer.zero_grad()\n",
    "            loss.backward()\n",
    "            optimizer.step()\n",
    "\n",
    "            preds = (torch.sigmoid(outputs) > 0.5).float()\n",
    "            correct += (preds == labels).all(axis=1).sum().item()\n",
    "            total += labels.size(0)\n",
    "            total_loss += loss.item()\n",
    "\n",
    "        train_accuracy = correct / total\n",
    "        print(f\"Epoch [{epoch+1}/{num_epochs}], Train Loss: {total_loss:.4f}, Train Accuracy: {train_accuracy:.4f}\")\n",
    "\n",
    "        print(f\"--- Validation Results for Epoch {epoch+1} ---\")\n",
    "        _,val_accuracy,_,_,_ = validate_model(model, validate_loader, device=device, num_classes=num_classes)\n",
    "\n",
    "        if val_accuracy > best_val_accuracy:\n",
    "            best_val_accuracy = val_accuracy\n",
    "            best_model_weights = model.state_dict()\n",
    "            torch.save(best_model_weights, save_path)\n",
    "            print(f\"Improved Validation Accuracy. Saved model with accuracy: {best_val_accuracy:.4f}\")\n",
    "\n",
    "    print(f\"Training complete. Best validation accuracy: {best_val_accuracy:.4f}\")\n",
    "    return model\n"
   ]
  },
  {
   "cell_type": "code",
   "execution_count": 12,
   "metadata": {
    "colab": {
     "base_uri": "https://localhost:8080/"
    },
    "id": "8x3lf7mDWmh9",
    "outputId": "ebf75cc0-a1b4-4c6b-95df-bc964ab579f4"
   },
   "outputs": [
    {
     "name": "stdout",
     "output_type": "stream",
     "text": [
      "-----------------------------Evaluation Metrics----------------------------------\n"
     ]
    },
    {
     "name": "stderr",
     "output_type": "stream",
     "text": [
      "100%|██████████| 28/28 [08:21<00:00, 17.90s/it]\n"
     ]
    },
    {
     "name": "stdout",
     "output_type": "stream",
     "text": [
      "Epoch [1/10], Train Loss: 2.3560, Train Accuracy: 0.6012\n",
      "--- Validation Results for Epoch 1 ---\n",
      "Validation Loss: 1.1099, Accuracy: 0.4718, Precision: 0.9575, Recall: 0.9618, F1-Score: 0.9586\n",
      "Improved Validation Accuracy. Saved model with accuracy: 0.4718\n"
     ]
    },
    {
     "name": "stderr",
     "output_type": "stream",
     "text": [
      "100%|██████████| 28/28 [02:35<00:00,  5.55s/it]\n"
     ]
    },
    {
     "name": "stdout",
     "output_type": "stream",
     "text": [
      "Epoch [2/10], Train Loss: 1.6298, Train Accuracy: 0.7491\n",
      "--- Validation Results for Epoch 2 ---\n",
      "Validation Loss: 0.6338, Accuracy: 0.5968, Precision: 0.9726, Recall: 0.9737, F1-Score: 0.9730\n",
      "Improved Validation Accuracy. Saved model with accuracy: 0.5968\n"
     ]
    },
    {
     "name": "stderr",
     "output_type": "stream",
     "text": [
      "100%|██████████| 28/28 [02:35<00:00,  5.56s/it]\n"
     ]
    },
    {
     "name": "stdout",
     "output_type": "stream",
     "text": [
      "Epoch [3/10], Train Loss: 1.2065, Train Accuracy: 0.8254\n",
      "--- Validation Results for Epoch 3 ---\n",
      "Validation Loss: 0.3962, Accuracy: 0.7540, Precision: 0.9828, Recall: 0.9834, F1-Score: 0.9829\n",
      "Improved Validation Accuracy. Saved model with accuracy: 0.7540\n"
     ]
    },
    {
     "name": "stderr",
     "output_type": "stream",
     "text": [
      "100%|██████████| 28/28 [02:38<00:00,  5.66s/it]\n"
     ]
    },
    {
     "name": "stdout",
     "output_type": "stream",
     "text": [
      "Epoch [4/10], Train Loss: 0.9695, Train Accuracy: 0.9064\n",
      "--- Validation Results for Epoch 4 ---\n",
      "Validation Loss: 0.4402, Accuracy: 0.7339, Precision: 0.9801, Recall: 0.9807, F1-Score: 0.9803\n"
     ]
    },
    {
     "name": "stderr",
     "output_type": "stream",
     "text": [
      "100%|██████████| 28/28 [02:38<00:00,  5.64s/it]\n"
     ]
    },
    {
     "name": "stdout",
     "output_type": "stream",
     "text": [
      "Epoch [5/10], Train Loss: 1.0235, Train Accuracy: 0.9133\n",
      "--- Validation Results for Epoch 5 ---\n",
      "Validation Loss: 0.5448, Accuracy: 0.6815, Precision: 0.9740, Recall: 0.9750, F1-Score: 0.9744\n"
     ]
    },
    {
     "name": "stderr",
     "output_type": "stream",
     "text": [
      "100%|██████████| 28/28 [02:37<00:00,  5.64s/it]\n"
     ]
    },
    {
     "name": "stdout",
     "output_type": "stream",
     "text": [
      "Epoch [6/10], Train Loss: 0.7837, Train Accuracy: 0.9526\n",
      "--- Validation Results for Epoch 6 ---\n",
      "Validation Loss: 0.3103, Accuracy: 0.8669, Precision: 0.9905, Recall: 0.9907, F1-Score: 0.9905\n",
      "Improved Validation Accuracy. Saved model with accuracy: 0.8669\n"
     ]
    },
    {
     "name": "stderr",
     "output_type": "stream",
     "text": [
      "100%|██████████| 28/28 [02:39<00:00,  5.70s/it]\n"
     ]
    },
    {
     "name": "stdout",
     "output_type": "stream",
     "text": [
      "Epoch [7/10], Train Loss: 0.8817, Train Accuracy: 0.9399\n",
      "--- Validation Results for Epoch 7 ---\n",
      "Validation Loss: 0.3768, Accuracy: 0.7903, Precision: 0.9865, Recall: 0.9866, F1-Score: 0.9865\n"
     ]
    },
    {
     "name": "stderr",
     "output_type": "stream",
     "text": [
      "100%|██████████| 28/28 [02:37<00:00,  5.63s/it]\n"
     ]
    },
    {
     "name": "stdout",
     "output_type": "stream",
     "text": [
      "Epoch [8/10], Train Loss: 0.8130, Train Accuracy: 0.9272\n",
      "--- Validation Results for Epoch 8 ---\n",
      "Validation Loss: 0.1181, Accuracy: 0.9274, Precision: 0.9947, Recall: 0.9947, F1-Score: 0.9947\n",
      "Improved Validation Accuracy. Saved model with accuracy: 0.9274\n"
     ]
    },
    {
     "name": "stderr",
     "output_type": "stream",
     "text": [
      "100%|██████████| 28/28 [02:40<00:00,  5.72s/it]\n"
     ]
    },
    {
     "name": "stdout",
     "output_type": "stream",
     "text": [
      "Epoch [9/10], Train Loss: 0.5446, Train Accuracy: 0.9526\n",
      "--- Validation Results for Epoch 9 ---\n",
      "Validation Loss: 0.1012, Accuracy: 0.9395, Precision: 0.9953, Recall: 0.9953, F1-Score: 0.9953\n",
      "Improved Validation Accuracy. Saved model with accuracy: 0.9395\n"
     ]
    },
    {
     "name": "stderr",
     "output_type": "stream",
     "text": [
      "100%|██████████| 28/28 [02:39<00:00,  5.68s/it]\n"
     ]
    },
    {
     "name": "stdout",
     "output_type": "stream",
     "text": [
      "Epoch [10/10], Train Loss: 0.5760, Train Accuracy: 0.9595\n",
      "--- Validation Results for Epoch 10 ---\n",
      "Validation Loss: 0.4992, Accuracy: 0.7944, Precision: 0.9838, Recall: 0.9841, F1-Score: 0.9839\n",
      "Training complete. Best validation accuracy: 0.9395\n",
      "---------------------------------------------------------------------------------\n"
     ]
    }
   ],
   "source": [
    "print('-----------------------------Evaluation Metrics----------------------------------')\n",
    "train_model_with_validation(model, train_loader, validate_loader, num_classes=num_classes, num_epochs=10, learning_rate=0.0008)\n",
    "print('---------------------------------------------------------------------------------')"
   ]
  },
  {
   "cell_type": "markdown",
   "metadata": {},
   "source": [
    "### Testing"
   ]
  },
  {
   "cell_type": "code",
   "execution_count": 13,
   "metadata": {
    "colab": {
     "base_uri": "https://localhost:8080/",
     "height": 773
    },
    "id": "SjxJ-mnRiaT_",
    "outputId": "5292da38-7933-4a97-88e4-c2c78da16a27"
   },
   "outputs": [
    {
     "name": "stderr",
     "output_type": "stream",
     "text": [
      "<ipython-input-13-57de9c7a806a>:58: MatplotlibDeprecationWarning: The get_cmap function was deprecated in Matplotlib 3.7 and will be removed two minor releases later. Use ``matplotlib.colormaps[name]`` or ``matplotlib.colormaps.get_cmap(obj)`` instead.\n",
      "  colors = cm.get_cmap('tab20', num_clusters)\n"
     ]
    },
    {
     "data": {
      "image/png": "[encoded data removed]",
      "text/plain": [
       "<Figure size 1000x800 with 2 Axes>"
      ]
     },
     "metadata": {},
     "output_type": "display_data"
    }
   ],
   "source": [
    "import numpy as np\n",
    "import torch\n",
    "from sklearn.cluster import AgglomerativeClustering\n",
    "from sklearn.decomposition import PCA\n",
    "from sklearn.manifold import TSNE\n",
    "import matplotlib.pyplot as plt\n",
    "import matplotlib.cm as cm\n",
    "from sklearn.preprocessing import StandardScaler\n",
    "from scipy.optimize import linear_sum_assignment\n",
    "\n",
    "def extract_features_and_cluster_agglomerative_with_label_matching(model, test_loader, num_clusters=19):\n",
    "    device = 'cuda' if torch.cuda.is_available() else 'cpu'\n",
    "    model.eval()\n",
    "\n",
    "    features_list = []\n",
    "    labels_list = []\n",
    "\n",
    "    with torch.no_grad():\n",
    "        for inputs, labels in test_loader:\n",
    "            inputs = inputs.to(device)\n",
    "            labels = labels.to(device)\n",
    "            outputs = model(inputs)\n",
    "            features_list.append(outputs.cpu().numpy())\n",
    "            labels_list.append(labels.cpu().numpy())\n",
    "\n",
    "    features_array = np.vstack(features_list)\n",
    "    labels_array = np.hstack(labels_list)\n",
    "\n",
    "    scaler = StandardScaler()\n",
    "    features_array = scaler.fit_transform(features_array)\n",
    "\n",
    "    agglomerative = AgglomerativeClustering(n_clusters=num_clusters)\n",
    "    cluster_labels = agglomerative.fit_predict(features_array)\n",
    "\n",
    "    confusion_matrix = np.zeros((num_clusters, len(np.unique(labels_array))))\n",
    "\n",
    "    for cluster, label in zip(cluster_labels, labels_array):\n",
    "        confusion_matrix[cluster, label] += 1\n",
    "\n",
    "    row_ind, col_ind = linear_sum_assignment(-confusion_matrix)\n",
    "\n",
    "    mapped_labels = np.copy(cluster_labels)\n",
    "    for cluster, true_label in zip(row_ind, col_ind):\n",
    "        mapped_labels[cluster_labels == cluster] = true_label\n",
    "\n",
    "    return features_array, labels_array, mapped_labels\n",
    "\n",
    "def visualize_clusters(features_array, mapped_labels, num_clusters=19, use_tsne=False):\n",
    "    if use_tsne:\n",
    "        reducer = TSNE(n_components=2, random_state=42)\n",
    "        reduced_features = reducer.fit_transform(features_array)\n",
    "    else:\n",
    "        pca = PCA(n_components=2)\n",
    "        reduced_features = pca.fit_transform(features_array)\n",
    "\n",
    "    plt.figure(figsize=(10, 8))\n",
    "\n",
    "    colors = cm.get_cmap('tab20', num_clusters)\n",
    "\n",
    "    for label in range(num_clusters):\n",
    "        cluster_points = reduced_features[mapped_labels == label]\n",
    "        plt.scatter(cluster_points[:, 0], cluster_points[:, 1],\n",
    "                    color=colors(label), label=f'Cluster {label + 1}', s=50)\n",
    "\n",
    "    plt.colorbar()\n",
    "    plt.title(f\"Agglomerative Clustering with Label Matching Test Dataset (n_clusters={num_clusters})\")\n",
    "    plt.xlabel(\"Component 1\")\n",
    "    plt.ylabel(\"Component 2\")\n",
    "    plt.show()\n",
    "\n",
    "features, labels, mapped_labels = extract_features_and_cluster_agglomerative_with_label_matching(model, test_loader, num_clusters=19)\n",
    "visualize_clusters(features, mapped_labels, num_clusters=19, use_tsne=True)"
   ]
  },
  {
   "cell_type": "code",
   "execution_count": 14,
   "metadata": {
    "colab": {
     "base_uri": "https://localhost:8080/"
    },
    "id": "4QLfz9NU0gjI",
    "outputId": "e454937b-26de-466f-fa0f-ce957330f393"
   },
   "outputs": [
    {
     "name": "stderr",
     "output_type": "stream",
     "text": [
      "<ipython-input-14-8cb8a27983ed>:6: FutureWarning: You are using `torch.load` with `weights_only=False` (the current default value), which uses the default pickle module implicitly. It is possible to construct malicious pickle data which will execute arbitrary code during unpickling (See https://github.com/pytorch/pytorch/blob/main/SECURITY.md#untrusted-models for more details). In a future release, the default value for `weights_only` will be flipped to `True`. This limits the functions that could be executed during unpickling. Arbitrary objects will no longer be allowed to be loaded via this mode unless they are explicitly allowlisted by the user via `torch.serialization.add_safe_globals`. We recommend you start setting `weights_only=True` for any use case where you don't have full control of the loaded file. Please open an issue on GitHub for any issues related to this experimental feature.\n",
      "  model.load_state_dict(torch.load(weights_path, map_location=device))\n"
     ]
    },
    {
     "name": "stdout",
     "output_type": "stream",
     "text": [
      "Accuracy: 0.9449\n",
      "Precision: 0.9696\n",
      "Recall: 0.9449\n",
      "F1-Score: 0.9455\n",
      "\n",
      "Confusion Matrix:\n",
      "[[7 0 0 0 0 0 0 0 0 0 0 0 0 0 0 0 0 0 0]\n",
      " [0 6 0 0 0 0 0 0 0 0 0 0 0 0 0 0 0 0 0]\n",
      " [0 0 5 0 0 0 0 0 0 0 0 0 0 0 0 0 0 0 0]\n",
      " [0 0 0 5 0 0 0 0 0 0 0 0 0 0 0 0 0 0 0]\n",
      " [0 0 0 0 7 0 0 0 0 0 0 0 0 0 0 0 0 0 0]\n",
      " [0 0 0 0 0 6 0 0 0 0 0 0 0 0 0 0 0 0 0]\n",
      " [0 0 0 0 0 0 6 0 0 0 0 0 0 0 0 0 2 0 0]\n",
      " [0 0 0 0 0 0 0 7 0 0 0 0 0 0 0 0 0 0 0]\n",
      " [0 0 0 0 0 0 0 0 7 0 0 0 0 0 0 0 0 0 0]\n",
      " [0 0 0 0 0 0 0 0 0 4 0 0 0 0 0 0 0 0 0]\n",
      " [0 0 0 0 0 0 0 0 0 2 4 0 0 0 0 0 0 0 0]\n",
      " [0 0 0 0 0 0 0 0 0 0 0 7 0 0 0 0 0 0 0]\n",
      " [0 0 0 0 0 0 0 0 0 0 0 0 7 0 0 0 0 0 0]\n",
      " [0 0 0 0 0 0 0 0 0 3 0 0 0 2 0 0 0 0 0]\n",
      " [0 0 0 0 0 0 0 0 0 0 0 0 0 0 8 0 0 0 0]\n",
      " [0 0 0 0 0 0 0 0 0 0 0 0 0 0 0 7 0 0 0]\n",
      " [0 0 0 0 0 0 0 0 0 0 0 0 0 0 0 0 9 0 0]\n",
      " [0 0 0 0 0 0 0 0 0 0 0 0 0 0 0 0 0 8 0]\n",
      " [0 0 0 0 0 0 0 0 0 0 0 0 0 0 0 0 0 0 8]]\n",
      "\n",
      "Classification Report:\n",
      "              precision    recall  f1-score   support\n",
      "\n",
      "           0       1.00      1.00      1.00         7\n",
      "           1       1.00      1.00      1.00         6\n",
      "           2       1.00      1.00      1.00         5\n",
      "           3       1.00      1.00      1.00         5\n",
      "           4       1.00      1.00      1.00         7\n",
      "           5       1.00      1.00      1.00         6\n",
      "           6       1.00      0.75      0.86         8\n",
      "           7       1.00      1.00      1.00         7\n",
      "           8       1.00      1.00      1.00         7\n",
      "           9       0.44      1.00      0.62         4\n",
      "          10       1.00      0.67      0.80         6\n",
      "          11       1.00      1.00      1.00         7\n",
      "          12       1.00      1.00      1.00         7\n",
      "          13       1.00      0.40      0.57         5\n",
      "          14       1.00      1.00      1.00         8\n",
      "          15       1.00      1.00      1.00         7\n",
      "          16       0.82      1.00      0.90         9\n",
      "          17       1.00      1.00      1.00         8\n",
      "          18       1.00      1.00      1.00         8\n",
      "\n",
      "    accuracy                           0.94       127\n",
      "   macro avg       0.96      0.94      0.93       127\n",
      "weighted avg       0.97      0.94      0.95       127\n",
      "\n"
     ]
    }
   ],
   "source": [
    "import numpy as np\n",
    "import torch\n",
    "from sklearn.metrics import precision_score, recall_score, f1_score, confusion_matrix, classification_report, accuracy_score\n",
    "\n",
    "def evaluate_model_metrics(model, test_loader, weights_path, device='cpu'):\n",
    "    model.load_state_dict(torch.load(weights_path, map_location=device))\n",
    "    model.to(device)\n",
    "    model.eval()\n",
    "\n",
    "    y_true = []\n",
    "    y_pred = []\n",
    "\n",
    "    with torch.no_grad():\n",
    "        for inputs, labels in test_loader:\n",
    "            inputs = inputs.to(device)\n",
    "            labels = labels.to(device)\n",
    "            outputs = model(inputs)\n",
    "\n",
    "            _, predicted = torch.max(outputs, 1)\n",
    "\n",
    "            y_true.extend(labels.cpu().numpy())\n",
    "            y_pred.extend(predicted.cpu().numpy())\n",
    "\n",
    "    y_true = np.array(y_true)\n",
    "    y_pred = np.array(y_pred)\n",
    "\n",
    "    accuracy = accuracy_score(y_true, y_pred)\n",
    "    precision = precision_score(y_true, y_pred, average='weighted')\n",
    "    recall = recall_score(y_true, y_pred, average='weighted')\n",
    "    f1 = f1_score(y_true, y_pred, average='weighted')\n",
    "\n",
    "    print(f'Accuracy: {accuracy:.4f}')\n",
    "    print(f'Precision: {precision:.4f}')\n",
    "    print(f'Recall: {recall:.4f}')\n",
    "    print(f'F1-Score: {f1:.4f}')\n",
    "\n",
    "    cm = confusion_matrix(y_true, y_pred)\n",
    "\n",
    "    print(\"\\nConfusion Matrix:\")\n",
    "    print(cm)\n",
    "\n",
    "    print(\"\\nClassification Report:\")\n",
    "    print(classification_report(y_true, y_pred))\n",
    "\n",
    "    return accuracy, precision, recall, f1, cm\n",
    "\n",
    "device = 'cuda' if torch.cuda.is_available() else 'cpu'\n",
    "weights_path = '/content/drive/MyDrive/model_weights.pth'\n",
    "accuracy, precision, recall, f1, cm = evaluate_model_metrics(model, test_loader, weights_path, device=device)\n"
   ]
  },
  {
   "cell_type": "code",
   "execution_count": 15,
   "metadata": {
    "id": "PQecvNTLVVRI"
   },
   "outputs": [],
   "source": [
    "def image_dataset(image_path):\n",
    "    transform = transforms.Compose([\n",
    "        transforms.Resize((224, 224)),\n",
    "        transforms.ToTensor(),\n",
    "        transforms.Normalize(mean=[0.485, 0.456, 0.406], std=[0.229, 0.224, 0.225])\n",
    "    ])\n",
    "    image_dataset = datasets.ImageFolder(image_path, transform=transform)\n",
    "    image_loader = DataLoader(image_dataset, batch_size=32, shuffle=False)\n",
    "    return image_loader,image_dataset\n",
    "\n",
    "image_path = '/content/drive/MyDrive/Augmented_Set'\n",
    "image_loader,image_dataset = image_dataset(image_path)"
   ]
  },
  {
   "cell_type": "code",
   "execution_count": null,
   "metadata": {
    "colab": {
     "base_uri": "https://localhost:8080/"
    },
    "id": "VVKgUOQEe04s",
    "outputId": "1a060940-7985-4e1b-b5fb-caffbc05deec"
   },
   "outputs": [
    {
     "name": "stderr",
     "output_type": "stream",
     "text": [
      "<ipython-input-21-22c9e0b0bbc5>:62: FutureWarning: You are using `torch.load` with `weights_only=False` (the current default value), which uses the default pickle module implicitly. It is possible to construct malicious pickle data which will execute arbitrary code during unpickling (See https://github.com/pytorch/pytorch/blob/main/SECURITY.md#untrusted-models for more details). In a future release, the default value for `weights_only` will be flipped to `True`. This limits the functions that could be executed during unpickling. Arbitrary objects will no longer be allowed to be loaded via this mode unless they are explicitly allowlisted by the user via `torch.serialization.add_safe_globals`. We recommend you start setting `weights_only=True` for any use case where you don't have full control of the loaded file. Please open an issue on GitHub for any issues related to this experimental feature.\n",
      "  model.load_state_dict(torch.load(weights_path, map_location=device))\n"
     ]
    },
    {
     "name": "stdout",
     "output_type": "stream",
     "text": [
      "Top 5 Similar Plants:\n",
      "Plant: betel, Similarity: 0.9967\n",
      "Plant: clove, Similarity: 0.8384\n",
      "Plant: Ixora coccinea, Similarity: 0.8289\n",
      "Plant: Hydrangea, Similarity: 0.8274\n",
      "Plant: centella_asiatica, Similarity: 0.8272\n",
      "1. betel: 0.9967\n",
      "2. clove: 0.8384\n",
      "3. Ixora coccinea: 0.8289\n",
      "4. Hydrangea: 0.8274\n",
      "5. centella_asiatica: 0.8272\n"
     ]
    }
   ],
   "source": [
    "import torch\n",
    "from sklearn.metrics.pairwise import cosine_similarity\n",
    "from torchvision import transforms\n",
    "from PIL import Image\n",
    "import numpy as np\n",
    "\n",
    "def preprocess_input_leaf(leaf_path, input_size=(224, 224)):\n",
    "    transform = transforms.Compose([\n",
    "        transforms.Resize(input_size),\n",
    "        transforms.ToTensor(),\n",
    "        transforms.Normalize(mean=[0.485, 0.456, 0.406], std=[0.229, 0.224, 0.225])\n",
    "    ])\n",
    "    image = Image.open(leaf_path).convert('RGB')\n",
    "    return transform(image).unsqueeze(0)\n",
    "\n",
    "def extract_features(model, dataloader, device):\n",
    "    model.eval()\n",
    "    features = []\n",
    "    labels = []\n",
    "\n",
    "    with torch.no_grad():\n",
    "        for inputs, lbls in dataloader:\n",
    "            inputs = inputs.to(device)\n",
    "            lbls = lbls.to(device)\n",
    "            outputs = model(inputs)\n",
    "            features.append(outputs.cpu().numpy())\n",
    "            labels.extend(lbls.cpu().numpy())\n",
    "\n",
    "    features = np.vstack(features)\n",
    "    labels = np.array(labels)\n",
    "    return features, labels\n",
    "\n",
    "def find_similarity_for_leaf(model, leaf_image_path, features, labels, plant_names, device, input_size=(224, 224)):\n",
    "    input_leaf = preprocess_input_leaf(leaf_image_path, input_size)\n",
    "\n",
    "    model.eval()\n",
    "    with torch.no_grad():\n",
    "        input_leaf = input_leaf.to(device)\n",
    "        leaf_features = model(input_leaf).cpu().numpy()\n",
    "\n",
    "    similarities = cosine_similarity(leaf_features, features)\n",
    "    plant_similarities = {}\n",
    "\n",
    "    for label in np.unique(labels):\n",
    "        label_indices = np.where(labels == label)[0]\n",
    "        label_similarities = similarities[0][label_indices]\n",
    "        mean_similarity = label_similarities.mean()\n",
    "        plant_similarities[plant_names[label]] = mean_similarity\n",
    "\n",
    "    sorted_plant_similarities = sorted(plant_similarities.items(), key=lambda x: x[1], reverse=True)\n",
    "\n",
    "    print(\"Top 5 Similar Plants:\")\n",
    "    top_5_plants = sorted_plant_similarities[:5]\n",
    "    for plant, similarity in top_5_plants:\n",
    "        print(f\"Plant: {plant}, Similarity: {similarity:.4f}\")\n",
    "\n",
    "    return top_5_plants\n",
    "\n",
    "\n",
    "device = 'cuda' if torch.cuda.is_available() else 'cpu'\n",
    "weights_path = '/content/drive/MyDrive/model_weights.pth'\n",
    "model.load_state_dict(torch.load(weights_path, map_location=device))\n",
    "model.to(device)\n",
    "\n",
    "features, labels = extract_features(model, test_loader, device)\n",
    "plant_names = test_dataset.classes\n",
    "\n",
    "leaf_image_path = '/content/drive/MyDrive/Augmented_Set/betel/IMG_7322_aug_3.jpg'\n",
    "top_5_plants = find_similarity_for_leaf(model, leaf_image_path, features, labels, plant_names, device)\n",
    "for rank, (plant, similarity) in enumerate(top_5_plants, start=1):\n",
    "    print(f\"{rank}. {plant}: {similarity:.4f}\")\n"
   ]
  },
  {
   "cell_type": "markdown",
   "metadata": {},
   "source": [
    "## Information Retrieval (information generation code):\n",
    "#### Finetuning code is in finetune.ipynb file"
   ]
  },
  {
   "cell_type": "code",
   "execution_count": 27,
   "metadata": {
    "colab": {
     "base_uri": "https://localhost:8080/"
    },
    "id": "xN6d45okc5vy",
    "outputId": "3ba3ac5a-eee8-4cff-941f-b377e172a768"
   },
   "outputs": [
    {
     "name": "stdout",
     "output_type": "stream",
     "text": [
      "Requirement already satisfied: transformers in /usr/local/lib/python3.10/dist-packages (4.46.2)\n",
      "Requirement already satisfied: filelock in /usr/local/lib/python3.10/dist-packages (from transformers) (3.16.1)\n",
      "Requirement already satisfied: huggingface-hub<1.0,>=0.23.2 in /usr/local/lib/python3.10/dist-packages (from transformers) (0.26.2)\n",
      "Requirement already satisfied: numpy>=1.17 in /usr/local/lib/python3.10/dist-packages (from transformers) (1.26.4)\n",
      "Requirement already satisfied: packaging>=20.0 in /usr/local/lib/python3.10/dist-packages (from transformers) (24.2)\n",
      "Requirement already satisfied: pyyaml>=5.1 in /usr/local/lib/python3.10/dist-packages (from transformers) (6.0.2)\n",
      "Requirement already satisfied: regex!=2019.12.17 in /usr/local/lib/python3.10/dist-packages (from transformers) (2024.9.11)\n",
      "Requirement already satisfied: requests in /usr/local/lib/python3.10/dist-packages (from transformers) (2.32.3)\n",
      "Requirement already satisfied: safetensors>=0.4.1 in /usr/local/lib/python3.10/dist-packages (from transformers) (0.4.5)\n",
      "Requirement already satisfied: tokenizers<0.21,>=0.20 in /usr/local/lib/python3.10/dist-packages (from transformers) (0.20.3)\n",
      "Requirement already satisfied: tqdm>=4.27 in /usr/local/lib/python3.10/dist-packages (from transformers) (4.66.6)\n",
      "Requirement already satisfied: fsspec>=2023.5.0 in /usr/local/lib/python3.10/dist-packages (from huggingface-hub<1.0,>=0.23.2->transformers) (2024.10.0)\n",
      "Requirement already satisfied: typing-extensions>=3.7.4.3 in /usr/local/lib/python3.10/dist-packages (from huggingface-hub<1.0,>=0.23.2->transformers) (4.12.2)\n",
      "Requirement already satisfied: charset-normalizer<4,>=2 in /usr/local/lib/python3.10/dist-packages (from requests->transformers) (3.4.0)\n",
      "Requirement already satisfied: idna<4,>=2.5 in /usr/local/lib/python3.10/dist-packages (from requests->transformers) (3.10)\n",
      "Requirement already satisfied: urllib3<3,>=1.21.1 in /usr/local/lib/python3.10/dist-packages (from requests->transformers) (2.2.3)\n",
      "Requirement already satisfied: certifi>=2017.4.17 in /usr/local/lib/python3.10/dist-packages (from requests->transformers) (2024.8.30)\n",
      "Collecting wikipedia-api\n",
      "  Downloading wikipedia_api-0.7.1.tar.gz (17 kB)\n",
      "  Preparing metadata (setup.py) ... \u001b[?25l\u001b[?25hdone\n",
      "Requirement already satisfied: requests in /usr/local/lib/python3.10/dist-packages (from wikipedia-api) (2.32.3)\n",
      "Requirement already satisfied: charset-normalizer<4,>=2 in /usr/local/lib/python3.10/dist-packages (from requests->wikipedia-api) (3.4.0)\n",
      "Requirement already satisfied: idna<4,>=2.5 in /usr/local/lib/python3.10/dist-packages (from requests->wikipedia-api) (3.10)\n",
      "Requirement already satisfied: urllib3<3,>=1.21.1 in /usr/local/lib/python3.10/dist-packages (from requests->wikipedia-api) (2.2.3)\n",
      "Requirement already satisfied: certifi>=2017.4.17 in /usr/local/lib/python3.10/dist-packages (from requests->wikipedia-api) (2024.8.30)\n",
      "Building wheels for collected packages: wikipedia-api\n",
      "  Building wheel for wikipedia-api (setup.py) ... \u001b[?25l\u001b[?25hdone\n",
      "  Created wheel for wikipedia-api: filename=Wikipedia_API-0.7.1-py3-none-any.whl size=14346 sha256=d2726c282e61e46893badd7e572bfab5d10e8cd1b257f4f2b349f6e8815c0709\n",
      "  Stored in directory: /root/.cache/pip/wheels/4c/96/18/b9201cc3e8b47b02b510460210cfd832ccf10c0c4dd0522962\n",
      "Successfully built wikipedia-api\n",
      "Installing collected packages: wikipedia-api\n",
      "Successfully installed wikipedia-api-0.7.1\n",
      "Collecting datasets\n",
      "  Using cached datasets-3.1.0-py3-none-any.whl.metadata (20 kB)\n",
      "Requirement already satisfied: filelock in /usr/local/lib/python3.10/dist-packages (from datasets) (3.16.1)\n",
      "Requirement already satisfied: numpy>=1.17 in /usr/local/lib/python3.10/dist-packages (from datasets) (1.26.4)\n",
      "Requirement already satisfied: pyarrow>=15.0.0 in /usr/local/lib/python3.10/dist-packages (from datasets) (17.0.0)\n",
      "Collecting dill<0.3.9,>=0.3.0 (from datasets)\n",
      "  Downloading dill-0.3.8-py3-none-any.whl.metadata (10 kB)\n",
      "Requirement already satisfied: pandas in /usr/local/lib/python3.10/dist-packages (from datasets) (2.2.2)\n",
      "Requirement already satisfied: requests>=2.32.2 in /usr/local/lib/python3.10/dist-packages (from datasets) (2.32.3)\n",
      "Requirement already satisfied: tqdm>=4.66.3 in /usr/local/lib/python3.10/dist-packages (from datasets) (4.66.6)\n",
      "Collecting xxhash (from datasets)\n",
      "  Downloading xxhash-3.5.0-cp310-cp310-manylinux_2_17_x86_64.manylinux2014_x86_64.whl.metadata (12 kB)\n",
      "Collecting multiprocess<0.70.17 (from datasets)\n",
      "  Downloading multiprocess-0.70.16-py310-none-any.whl.metadata (7.2 kB)\n",
      "Collecting fsspec<=2024.9.0,>=2023.1.0 (from fsspec[http]<=2024.9.0,>=2023.1.0->datasets)\n",
      "  Downloading fsspec-2024.9.0-py3-none-any.whl.metadata (11 kB)\n",
      "Requirement already satisfied: aiohttp in /usr/local/lib/python3.10/dist-packages (from datasets) (3.11.2)\n",
      "Requirement already satisfied: huggingface-hub>=0.23.0 in /usr/local/lib/python3.10/dist-packages (from datasets) (0.26.2)\n",
      "Requirement already satisfied: packaging in /usr/local/lib/python3.10/dist-packages (from datasets) (24.2)\n",
      "Requirement already satisfied: pyyaml>=5.1 in /usr/local/lib/python3.10/dist-packages (from datasets) (6.0.2)\n",
      "Requirement already satisfied: aiohappyeyeballs>=2.3.0 in /usr/local/lib/python3.10/dist-packages (from aiohttp->datasets) (2.4.3)\n",
      "Requirement already satisfied: aiosignal>=1.1.2 in /usr/local/lib/python3.10/dist-packages (from aiohttp->datasets) (1.3.1)\n",
      "Requirement already satisfied: attrs>=17.3.0 in /usr/local/lib/python3.10/dist-packages (from aiohttp->datasets) (24.2.0)\n",
      "Requirement already satisfied: frozenlist>=1.1.1 in /usr/local/lib/python3.10/dist-packages (from aiohttp->datasets) (1.5.0)\n",
      "Requirement already satisfied: multidict<7.0,>=4.5 in /usr/local/lib/python3.10/dist-packages (from aiohttp->datasets) (6.1.0)\n",
      "Requirement already satisfied: propcache>=0.2.0 in /usr/local/lib/python3.10/dist-packages (from aiohttp->datasets) (0.2.0)\n",
      "Requirement already satisfied: yarl<2.0,>=1.17.0 in /usr/local/lib/python3.10/dist-packages (from aiohttp->datasets) (1.17.2)\n",
      "Requirement already satisfied: async-timeout<6.0,>=4.0 in /usr/local/lib/python3.10/dist-packages (from aiohttp->datasets) (4.0.3)\n",
      "Requirement already satisfied: typing-extensions>=3.7.4.3 in /usr/local/lib/python3.10/dist-packages (from huggingface-hub>=0.23.0->datasets) (4.12.2)\n",
      "Requirement already satisfied: charset-normalizer<4,>=2 in /usr/local/lib/python3.10/dist-packages (from requests>=2.32.2->datasets) (3.4.0)\n",
      "Requirement already satisfied: idna<4,>=2.5 in /usr/local/lib/python3.10/dist-packages (from requests>=2.32.2->datasets) (3.10)\n",
      "Requirement already satisfied: urllib3<3,>=1.21.1 in /usr/local/lib/python3.10/dist-packages (from requests>=2.32.2->datasets) (2.2.3)\n",
      "Requirement already satisfied: certifi>=2017.4.17 in /usr/local/lib/python3.10/dist-packages (from requests>=2.32.2->datasets) (2024.8.30)\n",
      "Requirement already satisfied: python-dateutil>=2.8.2 in /usr/local/lib/python3.10/dist-packages (from pandas->datasets) (2.8.2)\n",
      "Requirement already satisfied: pytz>=2020.1 in /usr/local/lib/python3.10/dist-packages (from pandas->datasets) (2024.2)\n",
      "Requirement already satisfied: tzdata>=2022.7 in /usr/local/lib/python3.10/dist-packages (from pandas->datasets) (2024.2)\n",
      "Requirement already satisfied: six>=1.5 in /usr/local/lib/python3.10/dist-packages (from python-dateutil>=2.8.2->pandas->datasets) (1.16.0)\n",
      "Downloading datasets-3.1.0-py3-none-any.whl (480 kB)\n",
      "\u001b[2K   \u001b[90m━━━━━━━━━━━━━━━━━━━━━━━━━━━━━━━━━━━━━━━━\u001b[0m \u001b[32m480.6/480.6 kB\u001b[0m \u001b[31m32.0 MB/s\u001b[0m eta \u001b[36m0:00:00\u001b[0m\n",
      "\u001b[?25hDownloading dill-0.3.8-py3-none-any.whl (116 kB)\n",
      "\u001b[2K   \u001b[90m━━━━━━━━━━━━━━━━━━━━━━━━━━━━━━━━━━━━━━━━\u001b[0m \u001b[32m116.3/116.3 kB\u001b[0m \u001b[31m12.1 MB/s\u001b[0m eta \u001b[36m0:00:00\u001b[0m\n",
      "\u001b[?25hDownloading fsspec-2024.9.0-py3-none-any.whl (179 kB)\n",
      "\u001b[2K   \u001b[90m━━━━━━━━━━━━━━━━━━━━━━━━━━━━━━━━━━━━━━━━\u001b[0m \u001b[32m179.3/179.3 kB\u001b[0m \u001b[31m17.7 MB/s\u001b[0m eta \u001b[36m0:00:00\u001b[0m\n",
      "\u001b[?25hDownloading multiprocess-0.70.16-py310-none-any.whl (134 kB)\n",
      "\u001b[2K   \u001b[90m━━━━━━━━━━━━━━━━━━━━━━━━━━━━━━━━━━━━━━━━\u001b[0m \u001b[32m134.8/134.8 kB\u001b[0m \u001b[31m13.2 MB/s\u001b[0m eta \u001b[36m0:00:00\u001b[0m\n",
      "\u001b[?25hDownloading xxhash-3.5.0-cp310-cp310-manylinux_2_17_x86_64.manylinux2014_x86_64.whl (194 kB)\n",
      "\u001b[2K   \u001b[90m━━━━━━━━━━━━━━━━━━━━━━━━━━━━━━━━━━━━━━━━\u001b[0m \u001b[32m194.1/194.1 kB\u001b[0m \u001b[31m16.8 MB/s\u001b[0m eta \u001b[36m0:00:00\u001b[0m\n",
      "\u001b[?25hInstalling collected packages: xxhash, fsspec, dill, multiprocess, datasets\n",
      "  Attempting uninstall: fsspec\n",
      "    Found existing installation: fsspec 2024.10.0\n",
      "    Uninstalling fsspec-2024.10.0:\n",
      "      Successfully uninstalled fsspec-2024.10.0\n",
      "\u001b[31mERROR: pip's dependency resolver does not currently take into account all the packages that are installed. This behaviour is the source of the following dependency conflicts.\n",
      "gcsfs 2024.10.0 requires fsspec==2024.10.0, but you have fsspec 2024.9.0 which is incompatible.\u001b[0m\u001b[31m\n",
      "\u001b[0mSuccessfully installed datasets-3.1.0 dill-0.3.8 fsspec-2024.9.0 multiprocess-0.70.16 xxhash-3.5.0\n"
     ]
    }
   ],
   "source": [
    "!pip install transformers\n",
    "!pip install wikipedia-api\n",
    "!pip install datasets"
   ]
  },
  {
   "cell_type": "code",
   "execution_count": 28,
   "metadata": {
    "id": "b9hhh0YLcjP1"
   },
   "outputs": [],
   "source": [
    "import pandas as pd\n",
    "import numpy as np\n",
    "import wikipediaapi\n",
    "import torch\n",
    "from torch import nn\n",
    "import torch.nn.functional as F\n",
    "# import faiss\n",
    "from datasets import Dataset\n",
    "from transformers import get_scheduler\n",
    "import re\n",
    "from transformers import (DPRContextEncoderTokenizer, DPRQuestionEncoderTokenizer, DPRQuestionEncoder, DPRContextEncoder, DPRReader, Trainer, TrainingArguments)\n",
    "import random"
   ]
  },
  {
   "cell_type": "code",
   "execution_count": 29,
   "metadata": {
    "colab": {
     "base_uri": "https://localhost:8080/"
    },
    "id": "yQcLQR-pcjFO",
    "outputId": "eb544fd9-5c31-46f3-89cb-21fa0a113b89"
   },
   "outputs": [
    {
     "name": "stdout",
     "output_type": "stream",
     "text": [
      "GPU is available: Tesla T4\n"
     ]
    }
   ],
   "source": [
    "import torch\n",
    "\n",
    "if torch.cuda.is_available():\n",
    "    print(\"GPU is available:\", torch.cuda.get_device_name(0))\n",
    "else:\n",
    "    print(\"GPU not available. Check runtime settings.\")"
   ]
  },
  {
   "cell_type": "code",
   "execution_count": 30,
   "metadata": {
    "id": "FivUbIAOd0LI"
   },
   "outputs": [],
   "source": [
    "wiki = wikipediaapi.Wikipedia('plantInfoRetrieval(haricharangoudca1@gmail.com)', 'en' )\n",
    "\n",
    "def fetch_page(plant_name):\n",
    "  page = wiki.page(plant_name)\n",
    "  if page.exists:\n",
    "    return page.text\n",
    "  else:\n",
    "    return None"
   ]
  },
  {
   "cell_type": "code",
   "execution_count": 31,
   "metadata": {
    "id": "hvstYrt3fX7s"
   },
   "outputs": [],
   "source": [
    "model_save_path = \"/content/drive/MyDrive/fine_tuned_model\""
   ]
  },
  {
   "cell_type": "code",
   "execution_count": 39,
   "metadata": {
    "colab": {
     "base_uri": "https://localhost:8080/"
    },
    "id": "9b1eXAOrd5zg",
    "outputId": "20f27a65-dab8-4beb-d40c-7b17abd753a2"
   },
   "outputs": [
    {
     "name": "stderr",
     "output_type": "stream",
     "text": [
      "The tokenizer class you load from this checkpoint is not the same type as the class this function is called from. It may result in unexpected tokenization. \n",
      "The tokenizer class you load from this checkpoint is 'DPRQuestionEncoderTokenizer'. \n",
      "The class this function is called from is 'DPRContextEncoderTokenizer'.\n",
      "<ipython-input-39-471743154711>:19: FutureWarning: You are using `torch.load` with `weights_only=False` (the current default value), which uses the default pickle module implicitly. It is possible to construct malicious pickle data which will execute arbitrary code during unpickling (See https://github.com/pytorch/pytorch/blob/main/SECURITY.md#untrusted-models for more details). In a future release, the default value for `weights_only` will be flipped to `True`. This limits the functions that could be executed during unpickling. Arbitrary objects will no longer be allowed to be loaded via this mode unless they are explicitly allowlisted by the user via `torch.serialization.add_safe_globals`. We recommend you start setting `weights_only=True` for any use case where you don't have full control of the loaded file. Please open an issue on GitHub for any issues related to this experimental feature.\n",
      "  passage_dense_layer.load_state_dict(torch.load(f\"{model_save_path}/passage_dense_layer.pth\"))\n",
      "<ipython-input-39-471743154711>:20: FutureWarning: You are using `torch.load` with `weights_only=False` (the current default value), which uses the default pickle module implicitly. It is possible to construct malicious pickle data which will execute arbitrary code during unpickling (See https://github.com/pytorch/pytorch/blob/main/SECURITY.md#untrusted-models for more details). In a future release, the default value for `weights_only` will be flipped to `True`. This limits the functions that could be executed during unpickling. Arbitrary objects will no longer be allowed to be loaded via this mode unless they are explicitly allowlisted by the user via `torch.serialization.add_safe_globals`. We recommend you start setting `weights_only=True` for any use case where you don't have full control of the loaded file. Please open an issue on GitHub for any issues related to this experimental feature.\n",
      "  query_dense_layer.load_state_dict(torch.load(f\"{model_save_path}/query_dense_layer.pth\"))\n"
     ]
    },
    {
     "name": "stdout",
     "output_type": "stream",
     "text": [
      "Enter your query: Mango\n",
      "\n",
      "Relevant Information:\n",
      "Family: genus Mangifera also produce edible fruits that are also called\n",
      "Description: mango is an edible stone fruit produced by the tropical tree Mangifera indica. ...\n",
      "Uses: Culinary Mangoes are generally sweet, although the taste and texture of the flesh vary across cultivars; some, such as Alphonso, have a soft, pulpy, juicy texture similar to an overripe plum, while others, such as Tommy Atkins, are firmer with a fibrous texture ...\n"
     ]
    }
   ],
   "source": [
    "def create_dense_layer(input_size, output_size):\n",
    "    return nn.Sequential(\n",
    "        nn.Linear(input_size, output_size * 2),\n",
    "        nn.ReLU(),\n",
    "        nn.Linear(output_size * 2, output_size),\n",
    "        nn.GELU(),\n",
    "    )\n",
    "\n",
    "model_save_path = \"/content/drive/MyDrive/fine_tuned_model\"\n",
    "query_model = DPRQuestionEncoder.from_pretrained(f\"{model_save_path}/query_model\")\n",
    "passage_model = DPRContextEncoder.from_pretrained(f\"{model_save_path}/passage_model\")\n",
    "query_tokenizer = DPRQuestionEncoderTokenizer.from_pretrained('facebook/dpr-question_encoder-single-nq-base')\n",
    "passage_tokenizer = DPRContextEncoderTokenizer.from_pretrained('facebook/dpr-ctx_encoder-single-nq-base')\n",
    "\n",
    "dense_size = 128\n",
    "passage_dense_layer = create_dense_layer(768, dense_size)\n",
    "query_dense_layer = create_dense_layer(768, dense_size)\n",
    "\n",
    "passage_dense_layer.load_state_dict(torch.load(f\"{model_save_path}/passage_dense_layer.pth\"))\n",
    "query_dense_layer.load_state_dict(torch.load(f\"{model_save_path}/query_dense_layer.pth\"))\n",
    "\n",
    "passage_dense_layer.eval()\n",
    "query_dense_layer.eval()\n",
    "\n",
    "def extract_relevant_info(text):\n",
    "    family_name = None\n",
    "    description = None\n",
    "    uses = None\n",
    "\n",
    "    family_pattern = re.search(\n",
    "        r\"(?i)((\\b(plant\\s*family|family\\s*name|genus)\\s*[:\\-]?\\s*[\\w\\s]+)|\" +\n",
    "        r\"belongs\\s+to\\s+the\\s+(family|genus)\\b.*?\\.\" +\n",
    "        r\"|is\\s+a\\s+member\\s+of\\s+the\\s+(family|genus)\\b.*?\\.\" +\n",
    "        r\"|classified\\s+under\\s+(the\\s+family|the\\s+genus)\\b.*?\\.\" +\n",
    "        r\"|is\\s+from\\s+the\\s+(family|genus)\\b.*?\\.\" +\n",
    "        r\"|related\\s+to\\s+(the\\s+family|the\\s+genus)\\b.*?\\.)\", text)\n",
    "\n",
    "    description_pattern = re.search(\n",
    "        r\"(?i)(\\b\\w+\\s+(is|are)\\s+(a|an|widely|commonly|known|characterized|used|identified)\\b.*?\\.\" +\n",
    "        r\"|belongs\\s+to\\b.*?\\.\" +\n",
    "        r\"|has\\s+(properties|features|characteristics)\\b.*?\\.\" +\n",
    "        r\"|can\\s+be\\s+(identified|used|found)\\b.*?\\.)\", text)\n",
    "\n",
    "    uses_pattern = re.search(r\"(?i)(uses\\s*[:\\-]?\\s*([^.]+))\", text)\n",
    "\n",
    "    if family_pattern:\n",
    "        family_name = family_pattern.group(0).strip()\n",
    "\n",
    "    if description_pattern:\n",
    "        description = description_pattern.group(0).strip()\n",
    "\n",
    "    if uses_pattern:\n",
    "        uses = uses_pattern.group(2).strip()\n",
    "\n",
    "    if description:\n",
    "        description = limit_text_length(description, min_length=50, max_length=100)\n",
    "\n",
    "    if uses:\n",
    "        uses = limit_text_length(uses, min_length=50, max_length=100)\n",
    "\n",
    "    if not description:\n",
    "        description = extract_first_sentences(text, num_sentences=2)\n",
    "\n",
    "    return {\n",
    "        \"family_name\": family_name,\n",
    "        \"description\": description,\n",
    "        \"uses\": uses\n",
    "    }\n",
    "\n",
    "def limit_text_length(text, min_length=50, max_length=200):\n",
    "    words = text.split()\n",
    "    if len(words) > max_length:\n",
    "        text = \" \".join(words[:max_length]) + \"...\"\n",
    "    elif len(words) < min_length:\n",
    "        text = \" \".join(words + ['...'])\n",
    "    return text\n",
    "\n",
    "\n",
    "def extract_first_sentences(text, num_sentences=2):\n",
    "    sentences = text.split(\". \")\n",
    "    return \". \".join(sentences[:num_sentences]) + (\"\" if text.endswith(\".\") else \".\")\n",
    "\n",
    "\n",
    "def retrieve_relevant_documents(query):\n",
    "    document_text = fetch_page(query)\n",
    "\n",
    "    if not document_text:\n",
    "        return [\"Sorry, no relevant information found.\"]\n",
    "\n",
    "    return extract_relevant_info(document_text)\n",
    "\n",
    "def predict(user_input):\n",
    "    user_input = str(user_input)\n",
    "    query_tensor = query_tokenizer(user_input, padding='longest', truncation=True, max_length=512, return_tensors=\"pt\")\n",
    "    with torch.no_grad():\n",
    "        dense_query = query_model(**query_tensor)['pooler_output']\n",
    "    dense_query = query_dense_layer(dense_query)\n",
    "\n",
    "    relevant_info = retrieve_relevant_documents(user_input)\n",
    "\n",
    "    document_list = [f\"Family: {relevant_info.get('family_name', 'Not available')}\\nDescription: {relevant_info.get('description', 'Not available')}\\nUses: {relevant_info.get('uses', 'Not available')}\"]\n",
    "\n",
    "    passage_tensor = passage_tokenizer(document_list, padding='longest', truncation=True, max_length=512, return_tensors=\"pt\")\n",
    "    with torch.no_grad():\n",
    "        dense_passage = passage_model(input_ids=passage_tensor['input_ids'], attention_mask=passage_tensor['attention_mask'])['pooler_output']\n",
    "    dense_passage = passage_dense_layer(dense_passage)\n",
    "\n",
    "    similarity_scores = torch.matmul(dense_query, dense_passage.transpose(-2, -1)).squeeze()\n",
    "    most_similar_index = torch.argmax(similarity_scores).item()\n",
    "\n",
    "    return document_list[most_similar_index]\n",
    "\n",
    "user_input = input(\"Enter your query: \")\n",
    "output = predict(user_input)\n",
    "print(f\"\\nRelevant Information:\\n{output}\")"
   ]
  },
  {
   "cell_type": "markdown",
   "metadata": {},
   "source": [
    "### Generated output"
   ]
  },
  {
   "cell_type": "code",
   "execution_count": null,
   "metadata": {
    "colab": {
     "base_uri": "https://localhost:8080/"
    },
    "id": "-xZDfdPMg7Qg",
    "outputId": "8966b353-8f48-476a-d03a-92976398a549"
   },
   "outputs": [
    {
     "name": "stdout",
     "output_type": "stream",
     "text": [
      "Top 5 Similar Plants:\n",
      "Plant: betel, Similarity: 0.9967\n",
      "Plant: clove, Similarity: 0.8384\n",
      "Plant: Ixora coccinea, Similarity: 0.8289\n",
      "Plant: Hydrangea, Similarity: 0.8274\n",
      "Plant: centella_asiatica, Similarity: 0.8272\n",
      "Top 5 Plant Names: ['betel', 'clove', 'Ixora coccinea', 'Hydrangea', 'centella_asiatica']\n"
     ]
    }
   ],
   "source": [
    "features, labels = extract_features(model, test_loader, device)\n",
    "plant_names = test_dataset.classes\n",
    "leaf_image_path = '/content/drive/MyDrive/Augmented_Set/betel/IMG_7322_aug_3.jpg'\n",
    "top_5_plants = find_similarity_for_leaf(model, leaf_image_path, features, labels, plant_names, device)\n",
    "\n",
    "plants = [plant for plant, _ in top_5_plants]\n",
    "print(\"Top 5 Plant Names:\", plants)"
   ]
  },
  {
   "cell_type": "code",
   "execution_count": 45,
   "metadata": {
    "colab": {
     "base_uri": "https://localhost:8080/"
    },
    "id": "R5JwFjN5ifs4",
    "outputId": "db47cb6b-0795-425f-b4bd-e29720d06ca9"
   },
   "outputs": [
    {
     "name": "stdout",
     "output_type": "stream",
     "text": [
      "\n",
      "Relevant Information for betel:\n",
      "Family: None\n",
      "Description: It is an evergreen, dioecious vine, with glossy heart-shaped leaves and white catkins. ...\n",
      "Uses: esophageal cancer, and in some instances, liver cancer ...\n",
      "\n",
      "Relevant Information for clove:\n",
      "Family: None\n",
      "Description: and are commonly used as a spice, flavoring, or fragrance in consumer products, such as toothpaste, soaps, or cosmetics. ...\n",
      "Uses: Cloves are used in the cuisine of Asian, African, Mediterranean, and the Near and Middle East countries, lending flavor to meats (such as baked ham), curries, and marinades, as well as fruit (such as apples, pears, and rhubarb) ...\n",
      "\n",
      "Relevant Information for Ixora coccinea:\n",
      "Family: genus Ixora\n",
      "Description: It is a common flowering shrub native to Southern India, Bangladesh, and Sri Lanka. ...\n",
      "Uses: None\n",
      "\n",
      "Relevant Information for Hydrangea:\n",
      "Family: genus of more than 70 species of flowering plants native to Asia and the Americas\n",
      "Description: alaskana is a fossil species recovered from Paleogene strata at Jaw Mountain Alaska. ...\n",
      "Uses: Hydrangeas are popular ornamental plants, grown for their large flowerheads, with Hydrangea macrophylla being by far the most widely grown ...\n",
      "\n",
      "Relevant Information for centella_asiatica:\n",
      "Family: plant family Apiaceae\n",
      "Description: and is used in traditional medicine. ...\n",
      "Uses: Culinary In Burmese cuisine, raw pennywort is used as the main constituent in a salad mixed with onions, crushed peanuts, bean powder and seasoned with lime juice and fish sauce ...\n"
     ]
    }
   ],
   "source": [
    "for plant in plants:\n",
    "    output = predict(plant)\n",
    "    print(f\"\\nRelevant Information for {plant}:\\n{output}\")"
   ]
  }
 ],
 "metadata": {
  "accelerator": "GPU",
  "colab": {
   "gpuType": "T4",
   "provenance": []
  },
  "kernelspec": {
   "display_name": "Python 3",
   "name": "python3"
  },
  "language_info": {
   "name": "python"
  }
 },
 "nbformat": 4,
 "nbformat_minor": 0
}
